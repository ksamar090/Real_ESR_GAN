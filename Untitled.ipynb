{
 "cells": [
  {
   "cell_type": "code",
   "execution_count": 1,
   "id": "a00319ad-558f-4cd0-9575-20e228f08aa1",
   "metadata": {},
   "outputs": [
    {
     "name": "stdout",
     "output_type": "stream",
     "text": [
      "git version 2.45.2.windows.1\n"
     ]
    }
   ],
   "source": [
    "!git --version\n"
   ]
  },
  {
   "cell_type": "code",
   "execution_count": 2,
   "id": "da2738d8-62da-452b-b6d4-3d795233c6b6",
   "metadata": {},
   "outputs": [
    {
     "name": "stderr",
     "output_type": "stream",
     "text": [
      "Cloning into 'SFTGAN'...\n"
     ]
    }
   ],
   "source": [
    "!git clone https://github.com/xinntao/SFTGAN"
   ]
  },
  {
   "cell_type": "code",
   "execution_count": 4,
   "id": "ff5ec525-2934-4be5-a1f9-2d3d0523fe93",
   "metadata": {},
   "outputs": [
    {
     "name": "stdout",
     "output_type": "stream",
     "text": [
      "E:\\Video upscalling using GAN model\\SFTGAN\n"
     ]
    }
   ],
   "source": [
    "%cd E:\\\\Video upscalling using GAN model\\SFTGAN"
   ]
  },
  {
   "cell_type": "code",
   "execution_count": 5,
   "id": "578ccbc5-850c-4f51-a7ad-5bda444379e4",
   "metadata": {},
   "outputs": [
    {
     "name": "stdout",
     "output_type": "stream",
     "text": [
      "E:\\Video upscalling using GAN model\\SFTGAN\\torch_test\n"
     ]
    }
   ],
   "source": [
    "%cd  torch_test"
   ]
  },
  {
   "cell_type": "code",
   "execution_count": 6,
   "id": "780de317-4d06-49cc-bc26-3fde7812dd79",
   "metadata": {},
   "outputs": [
    {
     "name": "stdout",
     "output_type": "stream",
     "text": [
      "E:\\Video upscalling using GAN model\n"
     ]
    }
   ],
   "source": [
    "%cd E:\\Video upscalling using GAN model"
   ]
  },
  {
   "cell_type": "code",
   "execution_count": 7,
   "id": "dd0f4433-8877-4090-9df0-f80400e33cad",
   "metadata": {},
   "outputs": [
    {
     "name": "stdout",
     "output_type": "stream",
     "text": [
      "E:\\Video upscalling using GAN model\\SFTGAN\n"
     ]
    }
   ],
   "source": [
    "%cd E:\\Video upscalling using GAN model\\SFTGAN\n"
   ]
  },
  {
   "cell_type": "code",
   "execution_count": 8,
   "id": "2cc74739-a9f5-4ffa-add8-d31ffad297f3",
   "metadata": {},
   "outputs": [
    {
     "name": "stdout",
     "output_type": "stream",
     "text": [
      "E:\\Video upscalling using GAN model\\SFTGAN\\pytorch_test\n"
     ]
    }
   ],
   "source": [
    "%cd pytorch_test"
   ]
  },
  {
   "cell_type": "code",
   "execution_count": 9,
   "id": "daa53e06-c256-451c-bbd5-483893d6d559",
   "metadata": {},
   "outputs": [
    {
     "name": "stdout",
     "output_type": "stream",
     "text": [
      "E:\\Video upscalling using GAN model\\SFTGAN\n"
     ]
    }
   ],
   "source": [
    "%cd E:\\Video upscalling using GAN model\\SFTGAN\n"
   ]
  },
  {
   "cell_type": "code",
   "execution_count": 10,
   "id": "df562087-e8df-4ffb-b2c7-dbb0a347f316",
   "metadata": {},
   "outputs": [
    {
     "name": "stdout",
     "output_type": "stream",
     "text": [
      "E:\\Video upscalling using GAN model\\SFTGAN\\pytorch_test\n"
     ]
    }
   ],
   "source": [
    "%cd pytorch_test\n"
   ]
  },
  {
   "cell_type": "code",
   "execution_count": 16,
   "id": "dcbac7fb-b82f-4533-96e1-e9525ebeb906",
   "metadata": {},
   "outputs": [
    {
     "name": "stderr",
     "output_type": "stream",
     "text": [
      "Traceback (most recent call last):\n",
      "  File \"E:\\Video upscalling using GAN model\\SFTGAN\\pytorch_test\\test_segmentation.py\", line 34, in <module>\n",
      "    seg_model = seg_model.to(device)\n",
      "                ^^^^^^^^^^^^^^^^^^^^\n",
      "  File \"C:\\Users\\ksama\\AppData\\Local\\Programs\\Python\\Python312\\Lib\\site-packages\\torch\\nn\\modules\\module.py\", line 1173, in to\n",
      "    return self._apply(convert)\n",
      "           ^^^^^^^^^^^^^^^^^^^^\n",
      "  File \"C:\\Users\\ksama\\AppData\\Local\\Programs\\Python\\Python312\\Lib\\site-packages\\torch\\nn\\modules\\module.py\", line 779, in _apply\n",
      "    module._apply(fn)\n",
      "  File \"C:\\Users\\ksama\\AppData\\Local\\Programs\\Python\\Python312\\Lib\\site-packages\\torch\\nn\\modules\\module.py\", line 779, in _apply\n",
      "    module._apply(fn)\n",
      "  File \"C:\\Users\\ksama\\AppData\\Local\\Programs\\Python\\Python312\\Lib\\site-packages\\torch\\nn\\modules\\module.py\", line 804, in _apply\n",
      "    param_applied = fn(param)\n",
      "                    ^^^^^^^^^\n",
      "  File \"C:\\Users\\ksama\\AppData\\Local\\Programs\\Python\\Python312\\Lib\\site-packages\\torch\\nn\\modules\\module.py\", line 1159, in convert\n",
      "    return t.to(\n",
      "           ^^^^^\n",
      "  File \"C:\\Users\\ksama\\AppData\\Local\\Programs\\Python\\Python312\\Lib\\site-packages\\torch\\cuda\\__init__.py\", line 284, in _lazy_init\n",
      "    raise AssertionError(\"Torch not compiled with CUDA enabled\")\n",
      "AssertionError: Torch not compiled with CUDA enabled\n"
     ]
    }
   ],
   "source": [
    "!python test_segmentation.py"
   ]
  },
  {
   "cell_type": "code",
   "execution_count": null,
   "id": "d8707c19-b2b8-43b0-af1f-43f3a6317c8e",
   "metadata": {},
   "outputs": [],
   "source": []
  },
  {
   "cell_type": "code",
   "execution_count": null,
   "id": "4aac9dd6-82a2-4d2c-9ac9-8f2180b41f58",
   "metadata": {},
   "outputs": [],
   "source": []
  }
 ],
 "metadata": {
  "kernelspec": {
   "display_name": "Python 3 (ipykernel)",
   "language": "python",
   "name": "python3"
  },
  "language_info": {
   "codemirror_mode": {
    "name": "ipython",
    "version": 3
   },
   "file_extension": ".py",
   "mimetype": "text/x-python",
   "name": "python",
   "nbconvert_exporter": "python",
   "pygments_lexer": "ipython3",
   "version": "3.12.2"
  }
 },
 "nbformat": 4,
 "nbformat_minor": 5
}
